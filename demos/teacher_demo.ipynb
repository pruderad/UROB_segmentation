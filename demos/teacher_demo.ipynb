{
 "cells": [
  {
   "cell_type": "code",
   "execution_count": 1,
   "id": "initial_id",
   "metadata": {
    "collapsed": true,
    "ExecuteTime": {
     "end_time": "2023-12-12T10:49:22.176862256Z",
     "start_time": "2023-12-12T10:49:21.703205049Z"
    }
   },
   "outputs": [],
   "source": [
    "import sys\n",
    "sys.path.append('./../')\n",
    "from utils import *\n",
    "from seem_teacher.utils"
   ]
  },
  {
   "cell_type": "code",
   "execution_count": 2,
   "outputs": [],
   "source": [
    "filepath = './../dataset/tests/rb01.jpeg'\n",
    "\n",
    "img = resize_jpeg(filepath)\n",
    "show_image(img)"
   ],
   "metadata": {
    "collapsed": false,
    "ExecuteTime": {
     "end_time": "2023-12-12T10:49:24.590643471Z",
     "start_time": "2023-12-12T10:49:22.188816210Z"
    }
   },
   "id": "5720e7755eb94435"
  }
 ],
 "metadata": {
  "kernelspec": {
   "display_name": "Python 3",
   "language": "python",
   "name": "python3"
  },
  "language_info": {
   "codemirror_mode": {
    "name": "ipython",
    "version": 2
   },
   "file_extension": ".py",
   "mimetype": "text/x-python",
   "name": "python",
   "nbconvert_exporter": "python",
   "pygments_lexer": "ipython2",
   "version": "2.7.6"
  }
 },
 "nbformat": 4,
 "nbformat_minor": 5
}
