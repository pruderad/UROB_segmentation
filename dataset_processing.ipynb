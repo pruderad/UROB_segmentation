{
 "cells": [
  {
   "cell_type": "code",
   "execution_count": 9,
   "metadata": {},
   "outputs": [],
   "source": [
    "import os\n",
    "import numpy as np\n",
    "from tqdm import tqdm"
   ]
  },
  {
   "cell_type": "code",
   "execution_count": 10,
   "metadata": {},
   "outputs": [],
   "source": [
    "label_mappings = dict(\n",
    "    other_car = { # key = original label -> value = newly assigned label\n",
    "        2 : 200, # car\n",
    "        3 : 200, # car\n",
    "        7 : 200 # car\n",
    "    },\n",
    "\n",
    "    max_car = {\n",
    "        2 : 201, # car\n",
    "        3: 201, # car\n",
    "        7: 201 # car\n",
    "    }\n",
    ")"
   ]
  },
  {
   "cell_type": "code",
   "execution_count": 11,
   "metadata": {},
   "outputs": [],
   "source": [
    "def process_sample(sem_seg: np.ndarray, label_mappings: dict, folder_name):\n",
    "\n",
    "    final_semseg = sem_seg.copy()\n",
    "    for src_label in label_mappings[folder_name].keys():\n",
    "        target_label = label_mappings[folder_name][src_label]\n",
    "        final_semseg[sem_seg == src_label] = target_label\n",
    "    \n",
    "    return final_semseg\n",
    "\n",
    "\n",
    "def process_folder(folder_path: str, label_mappings: dict, target_folder: str):\n",
    "    folder_name = os.path.basename(folder_path)\n",
    "\n",
    "    seg_folder = os.path.join(folder_path, 'seg')\n",
    "    print(f'processing folder {folder_name}:')\n",
    "    avail_filenames = os.listdir(seg_folder)\n",
    "    pbar = tqdm(total=len(avail_filenames))\n",
    "    for filename in avail_filenames:\n",
    "\n",
    "        if not filename.endswith('.npy'):\n",
    "            pbar.update(1)\n",
    "            continue\n",
    "\n",
    "        file_path = os.path.join(seg_folder, filename)\n",
    "        sem_seg_orig = np.load(file_path)\n",
    "        sem_seg_processed = process_sample(sem_seg=sem_seg_orig, label_mappings=label_mappings, folder_name=folder_name)\n",
    "\n",
    "        target_file_path = os.path.join(target_folder,'seg', filename)\n",
    "        np.save(target_file_path, sem_seg_processed)\n",
    "        pbar.update(1)\n",
    "    pbar.close()\n",
    "\n",
    "def process_dataset(src_folder: str, target_folder: str, label_mappings: dict):\n",
    "\n",
    "    for folder_name in os.listdir(src_folder):\n",
    "        if folder_name in label_mappings:\n",
    "            folder_path = os.path.join(src_folder, folder_name)\n",
    "            try:\n",
    "                process_folder(folder_path=folder_path, label_mappings=label_mappings, target_folder=os.path.join(target_folder, folder_name))\n",
    "            except Exception as e:\n",
    "                print(e)\n",
    "        print('done')\n"
   ]
  },
  {
   "cell_type": "markdown",
   "metadata": {},
   "source": [
    "Je potreba mit prekopirovane vsechny slozky a mit tam vytvorenou a prazdnou slozky seg"
   ]
  },
  {
   "cell_type": "code",
   "execution_count": 12,
   "metadata": {},
   "outputs": [
    {
     "name": "stdout",
     "output_type": "stream",
     "text": [
      "processing folder max_car:\n"
     ]
    },
    {
     "name": "stderr",
     "output_type": "stream",
     "text": [
      "100%|██████████| 2203/2203 [00:03<00:00, 584.31it/s]\n"
     ]
    },
    {
     "name": "stdout",
     "output_type": "stream",
     "text": [
      "done\n",
      "processing folder other_car:\n"
     ]
    },
    {
     "name": "stderr",
     "output_type": "stream",
     "text": [
      "100%|██████████| 922/922 [00:03<00:00, 306.97it/s]"
     ]
    },
    {
     "name": "stdout",
     "output_type": "stream",
     "text": [
      "done\n"
     ]
    },
    {
     "name": "stderr",
     "output_type": "stream",
     "text": [
      "\n"
     ]
    }
   ],
   "source": [
    "\n",
    "src_folder = './dataset/labeled_src/'\n",
    "target_folder = './dataset/labeled_processed/'\n",
    "\n",
    "process_dataset(src_folder=src_folder, target_folder=target_folder, label_mappings=label_mappings)"
   ]
  }
 ],
 "metadata": {
  "kernelspec": {
   "display_name": "Python 3",
   "language": "python",
   "name": "python3"
  },
  "language_info": {
   "codemirror_mode": {
    "name": "ipython",
    "version": 3
   },
   "file_extension": ".py",
   "mimetype": "text/x-python",
   "name": "python",
   "nbconvert_exporter": "python",
   "pygments_lexer": "ipython3",
   "version": "3.10.12"
  }
 },
 "nbformat": 4,
 "nbformat_minor": 2
}
