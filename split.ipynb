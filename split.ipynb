{
 "cells": [
  {
   "cell_type": "code",
   "execution_count": 3,
   "metadata": {},
   "outputs": [],
   "source": [
    "import os\n",
    "import pickle\n",
    "import random\n",
    "import math\n",
    "import numpy as np"
   ]
  },
  {
   "cell_type": "code",
   "execution_count": 7,
   "metadata": {},
   "outputs": [
    {
     "name": "stdout",
     "output_type": "stream",
     "text": [
      "810 202\n"
     ]
    }
   ],
   "source": [
    "# TODO() splitting logic\n",
    "\n",
    "perc_train = 0.8\n",
    "perc_val = 0.2\n",
    "\n",
    "filenames = os.listdir('./dataset/labeled_dataset/max_car/')\n",
    "filepaths = []\n",
    "for filename in filenames:\n",
    "    filepath = os.path.join('./dataset/labeled_dataset/max_car/', filename)\n",
    "    filepaths.append(filepath)\n",
    "\n",
    "train_filenames = random.sample(filepaths, math.ceil(perc_train * len(filepaths)))\n",
    "val_filenames = filepaths\n",
    "for filepath in train_filenames:\n",
    "    val_filenames.remove(filepath)\n",
    "\n",
    "print(len(train_filenames), len(val_filenames))\n",
    "\n",
    "with open('./train_filenames.pkl', 'wb') as t_file:\n",
    "    pickle.dump(train_filenames, t_file)\n",
    "\n",
    "with open('./val_filenames.pkl', 'wb') as v_file:\n",
    "    pickle.dump(val_filenames, v_file)"
   ]
  }
 ],
 "metadata": {
  "kernelspec": {
   "display_name": "Python 3",
   "language": "python",
   "name": "python3"
  },
  "language_info": {
   "codemirror_mode": {
    "name": "ipython",
    "version": 3
   },
   "file_extension": ".py",
   "mimetype": "text/x-python",
   "name": "python",
   "nbconvert_exporter": "python",
   "pygments_lexer": "ipython3",
   "version": "3.10.12"
  }
 },
 "nbformat": 4,
 "nbformat_minor": 2
}
