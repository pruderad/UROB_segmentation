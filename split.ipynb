{
 "cells": [
  {
   "cell_type": "code",
   "execution_count": 9,
   "metadata": {},
   "outputs": [],
   "source": [
    "import os\n",
    "import pickle\n",
    "import random\n",
    "import math\n",
    "import numpy as np"
   ]
  },
  {
   "cell_type": "code",
   "execution_count": 10,
   "metadata": {},
   "outputs": [],
   "source": [
    "def get_all_file_paths(folder_path):\n",
    "    file_paths = []\n",
    "\n",
    "    # Walk through all the directories and subdirectories\n",
    "    for root, dirs, files in os.walk(folder_path):\n",
    "        for file in files:\n",
    "            # Get the absolute path of each file\n",
    "            file_path = os.path.abspath(os.path.join(root, 'seg', file))\n",
    "            if file_path.endswith('npy'):\n",
    "                file_paths.append(file_path)\n",
    "\n",
    "    return file_paths"
   ]
  },
  {
   "cell_type": "code",
   "execution_count": 11,
   "metadata": {},
   "outputs": [
    {
     "name": "stdout",
     "output_type": "stream",
     "text": [
      "526 175\n"
     ]
    }
   ],
   "source": [
    "# TODO() splitting logic\n",
    "\n",
    "perc_train = 0.75\n",
    "perc_val = 0.2\n",
    "\n",
    "filepaths = get_all_file_paths('./dataset/labeled_src/')\n",
    "\n",
    "train_filenames = random.sample(filepaths, math.ceil(perc_train * len(filepaths)))\n",
    "val_filenames = filepaths\n",
    "for filepath in train_filenames:\n",
    "    val_filenames.remove(filepath)\n",
    "\n",
    "print(len(train_filenames), len(val_filenames))\n",
    "\n",
    "with open('./train_filenames.pkl', 'wb') as t_file:\n",
    "    pickle.dump(train_filenames, t_file)\n",
    "\n",
    "with open('./val_filenames.pkl', 'wb') as v_file:\n",
    "    pickle.dump(val_filenames, v_file)"
   ]
  }
 ],
 "metadata": {
  "kernelspec": {
   "display_name": "Python 3",
   "language": "python",
   "name": "python3"
  },
  "language_info": {
   "codemirror_mode": {
    "name": "ipython",
    "version": 3
   },
   "file_extension": ".py",
   "mimetype": "text/x-python",
   "name": "python",
   "nbconvert_exporter": "python",
   "pygments_lexer": "ipython3",
   "version": "3.10.12"
  }
 },
 "nbformat": 4,
 "nbformat_minor": 2
}
